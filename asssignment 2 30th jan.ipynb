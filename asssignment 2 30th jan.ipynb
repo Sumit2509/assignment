{
 "cells": [
  {
   "cell_type": "markdown",
   "id": "0e911567-81cd-4660-a813-624195b92fe7",
   "metadata": {},
   "source": [
    "1. Write a program to accept percentage from the user and display the grade according to the following criteria:"
   ]
  },
  {
   "cell_type": "code",
   "execution_count": 1,
   "id": "5c089692-0b63-4ecd-bc66-c0ad90911839",
   "metadata": {},
   "outputs": [
    {
     "name": "stdin",
     "output_type": "stream",
     "text": [
      "Enter your percentage 45\n"
     ]
    },
    {
     "name": "stdout",
     "output_type": "stream",
     "text": [
      "You have scored D grade\n"
     ]
    }
   ],
   "source": [
    "marks = int(input(\"Enter your percentage\"))\n",
    "if marks > 90:\n",
    "    print(\"You have scored A grade\")\n",
    "elif marks >80 and marks <=90:\n",
    "    print(\"You have scored B grade\")\n",
    "elif marks >= 60 and marks <=80:\n",
    "    print(\"You have scored C grade\")\n",
    "else:\n",
    "    print(\"You have scored D grade\")"
   ]
  },
  {
   "cell_type": "markdown",
   "id": "a991be0c-3682-43d6-b1e4-6193f9f115ec",
   "metadata": {},
   "source": [
    "2. write a program to accept the cost price of a bike and display the road tax to be paid according to the following criteria"
   ]
  },
  {
   "cell_type": "code",
   "execution_count": 2,
   "id": "4edf6f95-7f5b-41e2-aa79-25345cacbcaa",
   "metadata": {},
   "outputs": [
    {
     "name": "stdin",
     "output_type": "stream",
     "text": [
      "Enter the cost price of bike\n",
      " 60000\n"
     ]
    },
    {
     "name": "stdout",
     "output_type": "stream",
     "text": [
      "You have to pay 10% Tax on bike\n"
     ]
    }
   ],
   "source": [
    "cp = int(input(\"Enter the cost price of bike\\n\"))\n",
    "if cp > 100000:\n",
    "    print(\"You have to pay 15% Tax on bike\")\n",
    "elif cp> 50000 and cp <=100000:\n",
    "    print(\"You have to pay 10% Tax on bike\")\n",
    "else:\n",
    "    print(\"You have to pay 5% Tax on bike\")"
   ]
  },
  {
   "cell_type": "markdown",
   "id": "6800ae52-bd86-4177-b64a-64d83f3caf59",
   "metadata": {},
   "source": [
    "3. Accept any city from user and display monuments of that city:"
   ]
  },
  {
   "cell_type": "code",
   "execution_count": 3,
   "id": "250ed336-62b3-47fd-86fb-2b625e4072fd",
   "metadata": {},
   "outputs": [
    {
     "name": "stdin",
     "output_type": "stream",
     "text": [
      "Enter the city name\n",
      " Agra\n"
     ]
    },
    {
     "name": "stdout",
     "output_type": "stream",
     "text": [
      "The Taj Mahal is present in Agra\n"
     ]
    }
   ],
   "source": [
    "city = input(\"Enter the city name\\n\")\n",
    "if city == \"Delhi\":\n",
    "    print(\"The Red Fort is present in Delhi\")\n",
    "elif city == \"Agra\":\n",
    "    print(\"The Taj Mahal is present in Agra\")\n",
    "elif city == \"Jaipur\":\n",
    "    print(\"The Jal Mahal is present in Jaipur\")\n",
    "else:\n",
    "    print(\"city not found\")\n",
    "    "
   ]
  },
  {
   "cell_type": "markdown",
   "id": "bc5bcae6-8b54-4b2c-8f13-d5ad85d139ee",
   "metadata": {},
   "source": [
    "4. Check how many times a given number can be divided by 3 before it is less than or equal to 10"
   ]
  },
  {
   "cell_type": "code",
   "execution_count": 4,
   "id": "e751dfcb-5429-4d8b-8fa8-4a85b8a96ee7",
   "metadata": {},
   "outputs": [
    {
     "name": "stdout",
     "output_type": "stream",
     "text": [
      "Total iteration required 3\n"
     ]
    }
   ],
   "source": [
    "count = 0\n",
    "number = 180\n",
    "while number > 10:\n",
    "    # divide number by 3\n",
    "    number = number / 3\n",
    "    # increase count\n",
    "    count = count + 1\n",
    "print('Total iteration required', count)"
   ]
  },
  {
   "cell_type": "markdown",
   "id": "b41de6c4-c05d-4a88-b86b-29f64f9374fc",
   "metadata": {},
   "source": [
    "7. Reverse a while loop to display number from 10 to 1"
   ]
  },
  {
   "cell_type": "code",
   "execution_count": 5,
   "id": "9c7ae311-f73a-46f1-a6bd-f2f043c34fb0",
   "metadata": {},
   "outputs": [
    {
     "name": "stdout",
     "output_type": "stream",
     "text": [
      "10\n",
      "9\n",
      "8\n",
      "7\n",
      "6\n",
      "5\n",
      "4\n",
      "3\n",
      "2\n",
      "1\n"
     ]
    }
   ],
   "source": [
    "i=10\n",
    "while i > 0:\n",
    "    print(i)\n",
    "    i=i-1\n"
   ]
  },
  {
   "cell_type": "markdown",
   "id": "4e97f6cd-6898-4d1f-802c-b35365c33dd6",
   "metadata": {},
   "source": [
    "6. Use nested while loop to print 3 different patterns"
   ]
  },
  {
   "cell_type": "code",
   "execution_count": 17,
   "id": "792bf121-ad46-4f5a-911e-e5276760a895",
   "metadata": {},
   "outputs": [
    {
     "name": "stdout",
     "output_type": "stream",
     "text": [
      "* \n",
      "* * \n",
      "* * * \n",
      "* * * * \n"
     ]
    }
   ],
   "source": [
    "i = 1\n",
    "while i < 5:\n",
    "    j = 0\n",
    "    while j < i:\n",
    "        print('*',end=' ')\n",
    "        j = j + 1\n",
    "    print('')\n",
    "    i = i + 1"
   ]
  },
  {
   "cell_type": "code",
   "execution_count": 14,
   "id": "2616cb8c-f396-4dde-b9e7-c425e7ca6330",
   "metadata": {},
   "outputs": [
    {
     "name": "stdout",
     "output_type": "stream",
     "text": [
      "1 \n",
      "2 1 \n",
      "3 2 1 \n",
      "4 3 2 1 \n",
      "5 4 3 2 1 \n"
     ]
    }
   ],
   "source": [
    "rows = 6\n",
    "for i in range(1, rows):\n",
    "    for j in range(i, 0, -1):\n",
    "        print(j, end=' ')\n",
    "    print(\"\")"
   ]
  },
  {
   "cell_type": "code",
   "execution_count": 16,
   "id": "5031b706-e2c6-4c05-a6d4-5fe4bcf8913c",
   "metadata": {},
   "outputs": [
    {
     "name": "stdout",
     "output_type": "stream",
     "text": [
      "1  \n",
      "2  4  \n",
      "3  6  9  \n",
      "4  8  12  16  \n",
      "5  10  15  20  25  \n",
      "6  12  18  24  30  36  \n",
      "7  14  21  28  35  42  49  \n",
      "8  16  24  32  40  48  56  64  \n"
     ]
    }
   ],
   "source": [
    "rows = 8\n",
    "\n",
    "for i in range(1, rows + 1):\n",
    "    for j in range(1, i + 1):\n",
    "        square = i * j\n",
    "        print(i * j, end='  ')\n",
    "    print()"
   ]
  },
  {
   "cell_type": "markdown",
   "id": "8c5d5c31-05d0-4e16-943a-d4bcf36117cc",
   "metadata": {},
   "source": [
    "5. Why and When to use while loop in python give a detailed description with example."
   ]
  },
  {
   "cell_type": "markdown",
   "id": "67b1a038-f7ce-44cf-ab58-37fc193b8da0",
   "metadata": {},
   "source": [
    "a.) Automate and repeat tasks.: As we know, while loops execute blocks of code over and over again until the condition is met it allows us to automate and repeat tasks in an efficient manner.\n",
    "\n",
    "b.) Indefinite Iteration: The while loop will run as often as necessary to complete a particular task. When the user doesn’t know the number of iterations before execution, while loop is used instead of a for loop.\n",
    "\n",
    "c.) Reduce complexity: while loop is easy to write. using the loop, we don’t need to write the statements again and again.\n",
    "\n",
    "d.) Infinite loop: If the code inside the while loop doesn’t modify the variables being tested in the loop condition, the loop will run forever."
   ]
  },
  {
   "cell_type": "code",
   "execution_count": 18,
   "id": "41ee8208-b6a8-4037-bd80-82edac142e39",
   "metadata": {},
   "outputs": [
    {
     "name": "stdin",
     "output_type": "stream",
     "text": [
      "Please Enter Number  5\n"
     ]
    },
    {
     "name": "stdout",
     "output_type": "stream",
     "text": [
      "5 is a odd number\n",
      "4 is a even number\n",
      "3 is a odd number\n",
      "2 is a even number\n",
      "1 is a odd number\n"
     ]
    }
   ],
   "source": [
    "n = int(input('Please Enter Number '))\n",
    "while n > 0:\n",
    "    # check even and odd\n",
    "    if n % 2 == 0:\n",
    "        print(n, 'is a even number')\n",
    "    else:\n",
    "        print(n, 'is a odd number')\n",
    "\n",
    "    n = n - 1"
   ]
  },
  {
   "cell_type": "code",
   "execution_count": null,
   "id": "83015e25-1bf3-4a98-9461-f6c5a50a73cd",
   "metadata": {},
   "outputs": [],
   "source": []
  }
 ],
 "metadata": {
  "kernelspec": {
   "display_name": "Python 3 (ipykernel)",
   "language": "python",
   "name": "python3"
  },
  "language_info": {
   "codemirror_mode": {
    "name": "ipython",
    "version": 3
   },
   "file_extension": ".py",
   "mimetype": "text/x-python",
   "name": "python",
   "nbconvert_exporter": "python",
   "pygments_lexer": "ipython3",
   "version": "3.10.8"
  }
 },
 "nbformat": 4,
 "nbformat_minor": 5
}
